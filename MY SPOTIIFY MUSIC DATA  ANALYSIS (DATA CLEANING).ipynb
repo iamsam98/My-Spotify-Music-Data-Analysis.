{
 "cells": [
  {
   "cell_type": "code",
   "execution_count": 1,
   "metadata": {},
   "outputs": [
    {
     "name": "stdout",
     "output_type": "stream",
     "text": [
      "E:\\DATA SCIENCE PROJECT\\MY SPOTIFY DATA ANALYSIS\\DATA\n"
     ]
    }
   ],
   "source": [
    " cd E:\\DATA SCIENCE PROJECT\\MY SPOTIFY DATA ANALYSIS\\DATA"
   ]
  },
  {
   "cell_type": "code",
   "execution_count": 55,
   "metadata": {},
   "outputs": [],
   "source": [
    "import pandas as pd"
   ]
  },
  {
   "cell_type": "code",
   "execution_count": 56,
   "metadata": {},
   "outputs": [
    {
     "data": {
      "text/html": [
       "<div>\n",
       "<style scoped>\n",
       "    .dataframe tbody tr th:only-of-type {\n",
       "        vertical-align: middle;\n",
       "    }\n",
       "\n",
       "    .dataframe tbody tr th {\n",
       "        vertical-align: top;\n",
       "    }\n",
       "\n",
       "    .dataframe thead th {\n",
       "        text-align: right;\n",
       "    }\n",
       "</style>\n",
       "<table border=\"1\" class=\"dataframe\">\n",
       "  <thead>\n",
       "    <tr style=\"text-align: right;\">\n",
       "      <th></th>\n",
       "      <th>Unnamed: 0</th>\n",
       "      <th>name</th>\n",
       "      <th>endTime</th>\n",
       "      <th>artistName</th>\n",
       "      <th>trackName</th>\n",
       "      <th>msPlayed</th>\n",
       "      <th>datetime</th>\n",
       "      <th>danceability</th>\n",
       "      <th>energy</th>\n",
       "      <th>key</th>\n",
       "      <th>...</th>\n",
       "      <th>liveness</th>\n",
       "      <th>valence</th>\n",
       "      <th>tempo</th>\n",
       "      <th>type</th>\n",
       "      <th>id</th>\n",
       "      <th>uri</th>\n",
       "      <th>track_href</th>\n",
       "      <th>analysis_url</th>\n",
       "      <th>duration_ms</th>\n",
       "      <th>time_signature</th>\n",
       "    </tr>\n",
       "  </thead>\n",
       "  <tbody>\n",
       "    <tr>\n",
       "      <th>0</th>\n",
       "      <td>0</td>\n",
       "      <td>Gasoline</td>\n",
       "      <td>2020-05-12 08:49</td>\n",
       "      <td>Halsey</td>\n",
       "      <td>Gasoline</td>\n",
       "      <td>199593</td>\n",
       "      <td>2020-05-12 08:49:00</td>\n",
       "      <td>0.731</td>\n",
       "      <td>0.580</td>\n",
       "      <td>10.0</td>\n",
       "      <td>...</td>\n",
       "      <td>0.1290</td>\n",
       "      <td>0.319</td>\n",
       "      <td>119.997</td>\n",
       "      <td>audio_features</td>\n",
       "      <td>2IO7yf562c1zLzpanal1DT</td>\n",
       "      <td>spotify:track:2IO7yf562c1zLzpanal1DT</td>\n",
       "      <td>https://api.spotify.com/v1/tracks/2IO7yf562c1z...</td>\n",
       "      <td>https://api.spotify.com/v1/audio-analysis/2IO7...</td>\n",
       "      <td>199593.0</td>\n",
       "      <td>4.0</td>\n",
       "    </tr>\n",
       "    <tr>\n",
       "      <th>1</th>\n",
       "      <td>1</td>\n",
       "      <td>IDGAF</td>\n",
       "      <td>2020-05-24 15:36</td>\n",
       "      <td>Dua Lipa</td>\n",
       "      <td>IDGAF</td>\n",
       "      <td>150004</td>\n",
       "      <td>2020-05-24 15:36:00</td>\n",
       "      <td>0.836</td>\n",
       "      <td>0.544</td>\n",
       "      <td>7.0</td>\n",
       "      <td>...</td>\n",
       "      <td>0.0824</td>\n",
       "      <td>0.510</td>\n",
       "      <td>97.028</td>\n",
       "      <td>audio_features</td>\n",
       "      <td>76cy1WJvNGJTj78UqeA5zr</td>\n",
       "      <td>spotify:track:76cy1WJvNGJTj78UqeA5zr</td>\n",
       "      <td>https://api.spotify.com/v1/tracks/76cy1WJvNGJT...</td>\n",
       "      <td>https://api.spotify.com/v1/audio-analysis/76cy...</td>\n",
       "      <td>217947.0</td>\n",
       "      <td>4.0</td>\n",
       "    </tr>\n",
       "    <tr>\n",
       "      <th>2</th>\n",
       "      <td>2</td>\n",
       "      <td>IDGAF</td>\n",
       "      <td>2020-05-28 09:21</td>\n",
       "      <td>Dua Lipa</td>\n",
       "      <td>IDGAF</td>\n",
       "      <td>213981</td>\n",
       "      <td>2020-05-28 09:21:00</td>\n",
       "      <td>0.836</td>\n",
       "      <td>0.544</td>\n",
       "      <td>7.0</td>\n",
       "      <td>...</td>\n",
       "      <td>0.0824</td>\n",
       "      <td>0.510</td>\n",
       "      <td>97.028</td>\n",
       "      <td>audio_features</td>\n",
       "      <td>76cy1WJvNGJTj78UqeA5zr</td>\n",
       "      <td>spotify:track:76cy1WJvNGJTj78UqeA5zr</td>\n",
       "      <td>https://api.spotify.com/v1/tracks/76cy1WJvNGJT...</td>\n",
       "      <td>https://api.spotify.com/v1/audio-analysis/76cy...</td>\n",
       "      <td>217947.0</td>\n",
       "      <td>4.0</td>\n",
       "    </tr>\n",
       "    <tr>\n",
       "      <th>3</th>\n",
       "      <td>3</td>\n",
       "      <td>No One Compares To You</td>\n",
       "      <td>2020-05-28 09:25</td>\n",
       "      <td>Jack &amp; Jack</td>\n",
       "      <td>No One Compares To You</td>\n",
       "      <td>177858</td>\n",
       "      <td>2020-05-28 09:25:00</td>\n",
       "      <td>0.700</td>\n",
       "      <td>0.748</td>\n",
       "      <td>1.0</td>\n",
       "      <td>...</td>\n",
       "      <td>0.0941</td>\n",
       "      <td>0.631</td>\n",
       "      <td>111.939</td>\n",
       "      <td>audio_features</td>\n",
       "      <td>4cZ3UsiKd1kUQIaq4BFIj2</td>\n",
       "      <td>spotify:track:4cZ3UsiKd1kUQIaq4BFIj2</td>\n",
       "      <td>https://api.spotify.com/v1/tracks/4cZ3UsiKd1kU...</td>\n",
       "      <td>https://api.spotify.com/v1/audio-analysis/4cZ3...</td>\n",
       "      <td>182920.0</td>\n",
       "      <td>4.0</td>\n",
       "    </tr>\n",
       "    <tr>\n",
       "      <th>4</th>\n",
       "      <td>4</td>\n",
       "      <td>Big Plans</td>\n",
       "      <td>2020-05-28 09:27</td>\n",
       "      <td>Why Don't We</td>\n",
       "      <td>Big Plans</td>\n",
       "      <td>146083</td>\n",
       "      <td>2020-05-28 09:27:00</td>\n",
       "      <td>0.693</td>\n",
       "      <td>0.604</td>\n",
       "      <td>11.0</td>\n",
       "      <td>...</td>\n",
       "      <td>0.1140</td>\n",
       "      <td>0.651</td>\n",
       "      <td>75.014</td>\n",
       "      <td>audio_features</td>\n",
       "      <td>3eng6TJxpqjvDkxRpnfnhB</td>\n",
       "      <td>spotify:track:3eng6TJxpqjvDkxRpnfnhB</td>\n",
       "      <td>https://api.spotify.com/v1/tracks/3eng6TJxpqjv...</td>\n",
       "      <td>https://api.spotify.com/v1/audio-analysis/3eng...</td>\n",
       "      <td>179930.0</td>\n",
       "      <td>4.0</td>\n",
       "    </tr>\n",
       "  </tbody>\n",
       "</table>\n",
       "<p>5 rows × 25 columns</p>\n",
       "</div>"
      ],
      "text/plain": [
       "   Unnamed: 0                    name           endTime    artistName  \\\n",
       "0           0                Gasoline  2020-05-12 08:49        Halsey   \n",
       "1           1                   IDGAF  2020-05-24 15:36      Dua Lipa   \n",
       "2           2                   IDGAF  2020-05-28 09:21      Dua Lipa   \n",
       "3           3  No One Compares To You  2020-05-28 09:25   Jack & Jack   \n",
       "4           4               Big Plans  2020-05-28 09:27  Why Don't We   \n",
       "\n",
       "                trackName  msPlayed             datetime  danceability  \\\n",
       "0                Gasoline    199593  2020-05-12 08:49:00         0.731   \n",
       "1                   IDGAF    150004  2020-05-24 15:36:00         0.836   \n",
       "2                   IDGAF    213981  2020-05-28 09:21:00         0.836   \n",
       "3  No One Compares To You    177858  2020-05-28 09:25:00         0.700   \n",
       "4               Big Plans    146083  2020-05-28 09:27:00         0.693   \n",
       "\n",
       "   energy   key  ...  liveness  valence    tempo            type  \\\n",
       "0   0.580  10.0  ...    0.1290    0.319  119.997  audio_features   \n",
       "1   0.544   7.0  ...    0.0824    0.510   97.028  audio_features   \n",
       "2   0.544   7.0  ...    0.0824    0.510   97.028  audio_features   \n",
       "3   0.748   1.0  ...    0.0941    0.631  111.939  audio_features   \n",
       "4   0.604  11.0  ...    0.1140    0.651   75.014  audio_features   \n",
       "\n",
       "                       id                                   uri  \\\n",
       "0  2IO7yf562c1zLzpanal1DT  spotify:track:2IO7yf562c1zLzpanal1DT   \n",
       "1  76cy1WJvNGJTj78UqeA5zr  spotify:track:76cy1WJvNGJTj78UqeA5zr   \n",
       "2  76cy1WJvNGJTj78UqeA5zr  spotify:track:76cy1WJvNGJTj78UqeA5zr   \n",
       "3  4cZ3UsiKd1kUQIaq4BFIj2  spotify:track:4cZ3UsiKd1kUQIaq4BFIj2   \n",
       "4  3eng6TJxpqjvDkxRpnfnhB  spotify:track:3eng6TJxpqjvDkxRpnfnhB   \n",
       "\n",
       "                                          track_href  \\\n",
       "0  https://api.spotify.com/v1/tracks/2IO7yf562c1z...   \n",
       "1  https://api.spotify.com/v1/tracks/76cy1WJvNGJT...   \n",
       "2  https://api.spotify.com/v1/tracks/76cy1WJvNGJT...   \n",
       "3  https://api.spotify.com/v1/tracks/4cZ3UsiKd1kU...   \n",
       "4  https://api.spotify.com/v1/tracks/3eng6TJxpqjv...   \n",
       "\n",
       "                                        analysis_url duration_ms  \\\n",
       "0  https://api.spotify.com/v1/audio-analysis/2IO7...    199593.0   \n",
       "1  https://api.spotify.com/v1/audio-analysis/76cy...    217947.0   \n",
       "2  https://api.spotify.com/v1/audio-analysis/76cy...    217947.0   \n",
       "3  https://api.spotify.com/v1/audio-analysis/4cZ3...    182920.0   \n",
       "4  https://api.spotify.com/v1/audio-analysis/3eng...    179930.0   \n",
       "\n",
       "  time_signature  \n",
       "0            4.0  \n",
       "1            4.0  \n",
       "2            4.0  \n",
       "3            4.0  \n",
       "4            4.0  \n",
       "\n",
       "[5 rows x 25 columns]"
      ]
     },
     "execution_count": 56,
     "metadata": {},
     "output_type": "execute_result"
    }
   ],
   "source": [
    "# loading the song file\n",
    "df_songs = pd.read_csv('final.csv')\n",
    "df_songs.head()"
   ]
  },
  {
   "cell_type": "code",
   "execution_count": 57,
   "metadata": {},
   "outputs": [
    {
     "data": {
      "text/plain": [
       "Index(['Unnamed: 0', 'name', 'endTime', 'artistName', 'trackName', 'msPlayed',\n",
       "       'datetime', 'danceability', 'energy', 'key', 'loudness', 'mode',\n",
       "       'speechiness', 'acousticness', 'instrumentalness', 'liveness',\n",
       "       'valence', 'tempo', 'type', 'id', 'uri', 'track_href', 'analysis_url',\n",
       "       'duration_ms', 'time_signature'],\n",
       "      dtype='object')"
      ]
     },
     "execution_count": 57,
     "metadata": {},
     "output_type": "execute_result"
    }
   ],
   "source": [
    "# List of columns in df_songs\n",
    "df_songs.columns"
   ]
  },
  {
   "cell_type": "code",
   "execution_count": 2,
   "metadata": {},
   "outputs": [],
   "source": [
    "# Dropping down the column which isnt necessary \n",
    "\n",
    "df_songs.drop(columns=['Unnamed: 0', 'name', 'endTime','type', 'uri','track_href','analysis_url','duration_ms'],inplace=True)\n",
    "df_songs.head()"
   ]
  },
  {
   "cell_type": "code",
   "execution_count": 61,
   "metadata": {},
   "outputs": [],
   "source": [
    "#Since there I have listened some songs multiple times so there are duplicates \n",
    "#So for these duplicates we'll create a new csv file\n",
    "df_new_songs=df_songs.drop_duplicates(subset='trackName',keep='last')"
   ]
  },
  {
   "cell_type": "code",
   "execution_count": 62,
   "metadata": {},
   "outputs": [
    {
     "data": {
      "text/plain": [
       "(8413, 17)"
      ]
     },
     "execution_count": 62,
     "metadata": {},
     "output_type": "execute_result"
    }
   ],
   "source": [
    "#Shape size before droping the duplicates\n",
    "df_songs.shape"
   ]
  },
  {
   "cell_type": "code",
   "execution_count": 63,
   "metadata": {},
   "outputs": [
    {
     "data": {
      "text/plain": [
       "(2135, 17)"
      ]
     },
     "execution_count": 63,
     "metadata": {},
     "output_type": "execute_result"
    }
   ],
   "source": [
    "#Shape Size after dropping the duplicates\n",
    "df_new_songs.shape"
   ]
  },
  {
   "cell_type": "code",
   "execution_count": 64,
   "metadata": {
    "scrolled": true
   },
   "outputs": [
    {
     "data": {
      "text/html": [
       "<div>\n",
       "<style scoped>\n",
       "    .dataframe tbody tr th:only-of-type {\n",
       "        vertical-align: middle;\n",
       "    }\n",
       "\n",
       "    .dataframe tbody tr th {\n",
       "        vertical-align: top;\n",
       "    }\n",
       "\n",
       "    .dataframe thead th {\n",
       "        text-align: right;\n",
       "    }\n",
       "</style>\n",
       "<table border=\"1\" class=\"dataframe\">\n",
       "  <thead>\n",
       "    <tr style=\"text-align: right;\">\n",
       "      <th></th>\n",
       "      <th>Unnamed: 0</th>\n",
       "      <th>id</th>\n",
       "      <th>spotify_id</th>\n",
       "      <th>list_name</th>\n",
       "      <th>list_id</th>\n",
       "      <th>song_id</th>\n",
       "      <th>song_name</th>\n",
       "      <th>artist</th>\n",
       "      <th>popularity</th>\n",
       "      <th>release_date</th>\n",
       "      <th>...</th>\n",
       "      <th>tempo</th>\n",
       "      <th>speechiness</th>\n",
       "      <th>acousticness</th>\n",
       "      <th>instrumentalness</th>\n",
       "      <th>danceability</th>\n",
       "      <th>duration_ms</th>\n",
       "      <th>loudness</th>\n",
       "      <th>valence</th>\n",
       "      <th>mode</th>\n",
       "      <th>key</th>\n",
       "    </tr>\n",
       "  </thead>\n",
       "  <tbody>\n",
       "    <tr>\n",
       "      <th>0</th>\n",
       "      <td>0</td>\n",
       "      <td>1</td>\n",
       "      <td>4a52HM6SrYSAY5mR0TKNQ5</td>\n",
       "      <td>Yoga Mix</td>\n",
       "      <td>NaN</td>\n",
       "      <td>NaN</td>\n",
       "      <td>NaN</td>\n",
       "      <td>NaN</td>\n",
       "      <td>NaN</td>\n",
       "      <td>NaN</td>\n",
       "      <td>...</td>\n",
       "      <td>NaN</td>\n",
       "      <td>NaN</td>\n",
       "      <td>NaN</td>\n",
       "      <td>NaN</td>\n",
       "      <td>NaN</td>\n",
       "      <td>NaN</td>\n",
       "      <td>NaN</td>\n",
       "      <td>NaN</td>\n",
       "      <td>NaN</td>\n",
       "      <td>NaN</td>\n",
       "    </tr>\n",
       "    <tr>\n",
       "      <th>1</th>\n",
       "      <td>1</td>\n",
       "      <td>2</td>\n",
       "      <td>5YEjVJDZUPPybUvNWWfDM0</td>\n",
       "      <td>Chillax Dance Mix</td>\n",
       "      <td>5YEjVJDZUPPybUvNWWfDM0</td>\n",
       "      <td>2mCF8L0brIs88eH6Kf2h9p</td>\n",
       "      <td>Fast Car</td>\n",
       "      <td>Jonas Blue</td>\n",
       "      <td>68.0</td>\n",
       "      <td>2015-12-04</td>\n",
       "      <td>...</td>\n",
       "      <td>113.945</td>\n",
       "      <td>0.0520</td>\n",
       "      <td>0.4840</td>\n",
       "      <td>0.000000</td>\n",
       "      <td>0.644</td>\n",
       "      <td>212424.0</td>\n",
       "      <td>-6.994</td>\n",
       "      <td>0.527</td>\n",
       "      <td>1.0</td>\n",
       "      <td>9.0</td>\n",
       "    </tr>\n",
       "    <tr>\n",
       "      <th>2</th>\n",
       "      <td>2</td>\n",
       "      <td>2</td>\n",
       "      <td>5YEjVJDZUPPybUvNWWfDM0</td>\n",
       "      <td>Chillax Dance Mix</td>\n",
       "      <td>5YEjVJDZUPPybUvNWWfDM0</td>\n",
       "      <td>2tnVG71enUj33Ic2nFN6kZ</td>\n",
       "      <td>Ride It</td>\n",
       "      <td>Regard</td>\n",
       "      <td>86.0</td>\n",
       "      <td>2019-07-26</td>\n",
       "      <td>...</td>\n",
       "      <td>117.948</td>\n",
       "      <td>0.0874</td>\n",
       "      <td>0.1770</td>\n",
       "      <td>0.000064</td>\n",
       "      <td>0.880</td>\n",
       "      <td>157606.0</td>\n",
       "      <td>-4.258</td>\n",
       "      <td>0.884</td>\n",
       "      <td>0.0</td>\n",
       "      <td>7.0</td>\n",
       "    </tr>\n",
       "    <tr>\n",
       "      <th>3</th>\n",
       "      <td>3</td>\n",
       "      <td>2</td>\n",
       "      <td>5YEjVJDZUPPybUvNWWfDM0</td>\n",
       "      <td>Chillax Dance Mix</td>\n",
       "      <td>5YEjVJDZUPPybUvNWWfDM0</td>\n",
       "      <td>2tnVG71enUj33Ic2nFN6kZ</td>\n",
       "      <td>Ride It</td>\n",
       "      <td>Regard</td>\n",
       "      <td>86.0</td>\n",
       "      <td>2019-07-26</td>\n",
       "      <td>...</td>\n",
       "      <td>117.948</td>\n",
       "      <td>0.0874</td>\n",
       "      <td>0.1770</td>\n",
       "      <td>0.000064</td>\n",
       "      <td>0.880</td>\n",
       "      <td>157606.0</td>\n",
       "      <td>-4.258</td>\n",
       "      <td>0.884</td>\n",
       "      <td>0.0</td>\n",
       "      <td>7.0</td>\n",
       "    </tr>\n",
       "    <tr>\n",
       "      <th>4</th>\n",
       "      <td>4</td>\n",
       "      <td>2</td>\n",
       "      <td>5YEjVJDZUPPybUvNWWfDM0</td>\n",
       "      <td>Chillax Dance Mix</td>\n",
       "      <td>5YEjVJDZUPPybUvNWWfDM0</td>\n",
       "      <td>0vbtURX4qv1l7besfwmnD8</td>\n",
       "      <td>I Took A Pill In Ibiza - Seeb Remix</td>\n",
       "      <td>Mike Posner</td>\n",
       "      <td>77.0</td>\n",
       "      <td>2016-05-06</td>\n",
       "      <td>...</td>\n",
       "      <td>101.969</td>\n",
       "      <td>0.1110</td>\n",
       "      <td>0.0353</td>\n",
       "      <td>0.000008</td>\n",
       "      <td>0.664</td>\n",
       "      <td>197933.0</td>\n",
       "      <td>-6.645</td>\n",
       "      <td>0.710</td>\n",
       "      <td>0.0</td>\n",
       "      <td>7.0</td>\n",
       "    </tr>\n",
       "  </tbody>\n",
       "</table>\n",
       "<p>5 rows × 22 columns</p>\n",
       "</div>"
      ],
      "text/plain": [
       "   Unnamed: 0  id              spotify_id          list_name  \\\n",
       "0           0   1  4a52HM6SrYSAY5mR0TKNQ5           Yoga Mix   \n",
       "1           1   2  5YEjVJDZUPPybUvNWWfDM0  Chillax Dance Mix   \n",
       "2           2   2  5YEjVJDZUPPybUvNWWfDM0  Chillax Dance Mix   \n",
       "3           3   2  5YEjVJDZUPPybUvNWWfDM0  Chillax Dance Mix   \n",
       "4           4   2  5YEjVJDZUPPybUvNWWfDM0  Chillax Dance Mix   \n",
       "\n",
       "                  list_id                 song_id  \\\n",
       "0                     NaN                     NaN   \n",
       "1  5YEjVJDZUPPybUvNWWfDM0  2mCF8L0brIs88eH6Kf2h9p   \n",
       "2  5YEjVJDZUPPybUvNWWfDM0  2tnVG71enUj33Ic2nFN6kZ   \n",
       "3  5YEjVJDZUPPybUvNWWfDM0  2tnVG71enUj33Ic2nFN6kZ   \n",
       "4  5YEjVJDZUPPybUvNWWfDM0  0vbtURX4qv1l7besfwmnD8   \n",
       "\n",
       "                             song_name       artist  popularity release_date  \\\n",
       "0                                  NaN          NaN         NaN          NaN   \n",
       "1                             Fast Car   Jonas Blue        68.0   2015-12-04   \n",
       "2                              Ride It       Regard        86.0   2019-07-26   \n",
       "3                              Ride It       Regard        86.0   2019-07-26   \n",
       "4  I Took A Pill In Ibiza - Seeb Remix  Mike Posner        77.0   2016-05-06   \n",
       "\n",
       "   ...    tempo  speechiness  acousticness  instrumentalness  danceability  \\\n",
       "0  ...      NaN          NaN           NaN               NaN           NaN   \n",
       "1  ...  113.945       0.0520        0.4840          0.000000         0.644   \n",
       "2  ...  117.948       0.0874        0.1770          0.000064         0.880   \n",
       "3  ...  117.948       0.0874        0.1770          0.000064         0.880   \n",
       "4  ...  101.969       0.1110        0.0353          0.000008         0.664   \n",
       "\n",
       "   duration_ms  loudness  valence  mode  key  \n",
       "0          NaN       NaN      NaN   NaN  NaN  \n",
       "1     212424.0    -6.994    0.527   1.0  9.0  \n",
       "2     157606.0    -4.258    0.884   0.0  7.0  \n",
       "3     157606.0    -4.258    0.884   0.0  7.0  \n",
       "4     197933.0    -6.645    0.710   0.0  7.0  \n",
       "\n",
       "[5 rows x 22 columns]"
      ]
     },
     "execution_count": 64,
     "metadata": {},
     "output_type": "execute_result"
    }
   ],
   "source": [
    "#Now loading the next dataset\n",
    "df_playlists=pd.read_csv('playlist.csv')\n",
    "df_playlists.head()"
   ]
  },
  {
   "cell_type": "code",
   "execution_count": 65,
   "metadata": {
    "scrolled": true
   },
   "outputs": [
    {
     "data": {
      "text/html": [
       "<div>\n",
       "<style scoped>\n",
       "    .dataframe tbody tr th:only-of-type {\n",
       "        vertical-align: middle;\n",
       "    }\n",
       "\n",
       "    .dataframe tbody tr th {\n",
       "        vertical-align: top;\n",
       "    }\n",
       "\n",
       "    .dataframe thead th {\n",
       "        text-align: right;\n",
       "    }\n",
       "</style>\n",
       "<table border=\"1\" class=\"dataframe\">\n",
       "  <thead>\n",
       "    <tr style=\"text-align: right;\">\n",
       "      <th></th>\n",
       "      <th>list_name</th>\n",
       "      <th>song_id</th>\n",
       "      <th>song_name</th>\n",
       "      <th>artist</th>\n",
       "      <th>popularity</th>\n",
       "      <th>release_date</th>\n",
       "      <th>energy</th>\n",
       "      <th>liveness</th>\n",
       "      <th>tempo</th>\n",
       "      <th>speechiness</th>\n",
       "      <th>acousticness</th>\n",
       "      <th>instrumentalness</th>\n",
       "      <th>danceability</th>\n",
       "      <th>duration_ms</th>\n",
       "      <th>loudness</th>\n",
       "      <th>valence</th>\n",
       "      <th>mode</th>\n",
       "      <th>key</th>\n",
       "    </tr>\n",
       "  </thead>\n",
       "  <tbody>\n",
       "    <tr>\n",
       "      <th>0</th>\n",
       "      <td>Yoga Mix</td>\n",
       "      <td>NaN</td>\n",
       "      <td>NaN</td>\n",
       "      <td>NaN</td>\n",
       "      <td>NaN</td>\n",
       "      <td>NaN</td>\n",
       "      <td>NaN</td>\n",
       "      <td>NaN</td>\n",
       "      <td>NaN</td>\n",
       "      <td>NaN</td>\n",
       "      <td>NaN</td>\n",
       "      <td>NaN</td>\n",
       "      <td>NaN</td>\n",
       "      <td>NaN</td>\n",
       "      <td>NaN</td>\n",
       "      <td>NaN</td>\n",
       "      <td>NaN</td>\n",
       "      <td>NaN</td>\n",
       "    </tr>\n",
       "    <tr>\n",
       "      <th>1</th>\n",
       "      <td>Chillax Dance Mix</td>\n",
       "      <td>2mCF8L0brIs88eH6Kf2h9p</td>\n",
       "      <td>Fast Car</td>\n",
       "      <td>Jonas Blue</td>\n",
       "      <td>68.0</td>\n",
       "      <td>2015-12-04</td>\n",
       "      <td>0.570</td>\n",
       "      <td>0.2990</td>\n",
       "      <td>113.945</td>\n",
       "      <td>0.0520</td>\n",
       "      <td>0.4840</td>\n",
       "      <td>0.000000</td>\n",
       "      <td>0.644</td>\n",
       "      <td>212424.0</td>\n",
       "      <td>-6.994</td>\n",
       "      <td>0.527</td>\n",
       "      <td>1.0</td>\n",
       "      <td>9.0</td>\n",
       "    </tr>\n",
       "    <tr>\n",
       "      <th>2</th>\n",
       "      <td>Chillax Dance Mix</td>\n",
       "      <td>2tnVG71enUj33Ic2nFN6kZ</td>\n",
       "      <td>Ride It</td>\n",
       "      <td>Regard</td>\n",
       "      <td>86.0</td>\n",
       "      <td>2019-07-26</td>\n",
       "      <td>0.751</td>\n",
       "      <td>0.1060</td>\n",
       "      <td>117.948</td>\n",
       "      <td>0.0874</td>\n",
       "      <td>0.1770</td>\n",
       "      <td>0.000064</td>\n",
       "      <td>0.880</td>\n",
       "      <td>157606.0</td>\n",
       "      <td>-4.258</td>\n",
       "      <td>0.884</td>\n",
       "      <td>0.0</td>\n",
       "      <td>7.0</td>\n",
       "    </tr>\n",
       "    <tr>\n",
       "      <th>3</th>\n",
       "      <td>Chillax Dance Mix</td>\n",
       "      <td>2tnVG71enUj33Ic2nFN6kZ</td>\n",
       "      <td>Ride It</td>\n",
       "      <td>Regard</td>\n",
       "      <td>86.0</td>\n",
       "      <td>2019-07-26</td>\n",
       "      <td>0.751</td>\n",
       "      <td>0.1060</td>\n",
       "      <td>117.948</td>\n",
       "      <td>0.0874</td>\n",
       "      <td>0.1770</td>\n",
       "      <td>0.000064</td>\n",
       "      <td>0.880</td>\n",
       "      <td>157606.0</td>\n",
       "      <td>-4.258</td>\n",
       "      <td>0.884</td>\n",
       "      <td>0.0</td>\n",
       "      <td>7.0</td>\n",
       "    </tr>\n",
       "    <tr>\n",
       "      <th>4</th>\n",
       "      <td>Chillax Dance Mix</td>\n",
       "      <td>0vbtURX4qv1l7besfwmnD8</td>\n",
       "      <td>I Took A Pill In Ibiza - Seeb Remix</td>\n",
       "      <td>Mike Posner</td>\n",
       "      <td>77.0</td>\n",
       "      <td>2016-05-06</td>\n",
       "      <td>0.714</td>\n",
       "      <td>0.0843</td>\n",
       "      <td>101.969</td>\n",
       "      <td>0.1110</td>\n",
       "      <td>0.0353</td>\n",
       "      <td>0.000008</td>\n",
       "      <td>0.664</td>\n",
       "      <td>197933.0</td>\n",
       "      <td>-6.645</td>\n",
       "      <td>0.710</td>\n",
       "      <td>0.0</td>\n",
       "      <td>7.0</td>\n",
       "    </tr>\n",
       "  </tbody>\n",
       "</table>\n",
       "</div>"
      ],
      "text/plain": [
       "           list_name                 song_id  \\\n",
       "0           Yoga Mix                     NaN   \n",
       "1  Chillax Dance Mix  2mCF8L0brIs88eH6Kf2h9p   \n",
       "2  Chillax Dance Mix  2tnVG71enUj33Ic2nFN6kZ   \n",
       "3  Chillax Dance Mix  2tnVG71enUj33Ic2nFN6kZ   \n",
       "4  Chillax Dance Mix  0vbtURX4qv1l7besfwmnD8   \n",
       "\n",
       "                             song_name       artist  popularity release_date  \\\n",
       "0                                  NaN          NaN         NaN          NaN   \n",
       "1                             Fast Car   Jonas Blue        68.0   2015-12-04   \n",
       "2                              Ride It       Regard        86.0   2019-07-26   \n",
       "3                              Ride It       Regard        86.0   2019-07-26   \n",
       "4  I Took A Pill In Ibiza - Seeb Remix  Mike Posner        77.0   2016-05-06   \n",
       "\n",
       "   energy  liveness    tempo  speechiness  acousticness  instrumentalness  \\\n",
       "0     NaN       NaN      NaN          NaN           NaN               NaN   \n",
       "1   0.570    0.2990  113.945       0.0520        0.4840          0.000000   \n",
       "2   0.751    0.1060  117.948       0.0874        0.1770          0.000064   \n",
       "3   0.751    0.1060  117.948       0.0874        0.1770          0.000064   \n",
       "4   0.714    0.0843  101.969       0.1110        0.0353          0.000008   \n",
       "\n",
       "   danceability  duration_ms  loudness  valence  mode  key  \n",
       "0           NaN          NaN       NaN      NaN   NaN  NaN  \n",
       "1         0.644     212424.0    -6.994    0.527   1.0  9.0  \n",
       "2         0.880     157606.0    -4.258    0.884   0.0  7.0  \n",
       "3         0.880     157606.0    -4.258    0.884   0.0  7.0  \n",
       "4         0.664     197933.0    -6.645    0.710   0.0  7.0  "
      ]
     },
     "execution_count": 65,
     "metadata": {},
     "output_type": "execute_result"
    }
   ],
   "source": [
    "# Dropping down the column which isnt necessary \n",
    "\n",
    "df_playlists.drop(columns=['Unnamed: 0', 'id', 'spotify_id','list_id'],inplace=True)\n",
    "df_playlists.head()"
   ]
  },
  {
   "cell_type": "code",
   "execution_count": 66,
   "metadata": {},
   "outputs": [
    {
     "data": {
      "text/plain": [
       "(242, 18)"
      ]
     },
     "execution_count": 66,
     "metadata": {},
     "output_type": "execute_result"
    }
   ],
   "source": [
    "#shape size after Dropping the Duplicates\n",
    "df_new_playlists=df_playlists.drop_duplicates(subset=['list_name','song_name'], keep='last')\n",
    "df_new_playlists.shape"
   ]
  },
  {
   "cell_type": "code",
   "execution_count": 67,
   "metadata": {
    "scrolled": true
   },
   "outputs": [
    {
     "data": {
      "text/plain": [
       "artistName          0\n",
       "trackName           0\n",
       "msPlayed            0\n",
       "datetime            0\n",
       "danceability        0\n",
       "energy              0\n",
       "key                 0\n",
       "loudness            0\n",
       "mode                0\n",
       "speechiness         0\n",
       "acousticness        0\n",
       "instrumentalness    0\n",
       "liveness            0\n",
       "valence             0\n",
       "tempo               0\n",
       "id                  0\n",
       "time_signature      0\n",
       "dtype: int64"
      ]
     },
     "execution_count": 67,
     "metadata": {},
     "output_type": "execute_result"
    }
   ],
   "source": [
    "#Cheking the Null Values\n",
    "df_songs.isnull().sum()"
   ]
  },
  {
   "cell_type": "code",
   "execution_count": 68,
   "metadata": {
    "scrolled": true
   },
   "outputs": [
    {
     "data": {
      "text/plain": [
       "list_name           0\n",
       "song_id             1\n",
       "song_name           1\n",
       "artist              1\n",
       "popularity          1\n",
       "release_date        1\n",
       "energy              1\n",
       "liveness            1\n",
       "tempo               1\n",
       "speechiness         1\n",
       "acousticness        1\n",
       "instrumentalness    1\n",
       "danceability        1\n",
       "duration_ms         1\n",
       "loudness            1\n",
       "valence             1\n",
       "mode                1\n",
       "key                 1\n",
       "dtype: int64"
      ]
     },
     "execution_count": 68,
     "metadata": {},
     "output_type": "execute_result"
    }
   ],
   "source": [
    "df_playlists.isnull().sum()"
   ]
  },
  {
   "cell_type": "code",
   "execution_count": 69,
   "metadata": {},
   "outputs": [
    {
     "data": {
      "text/plain": [
       "artistName          0\n",
       "trackName           0\n",
       "msPlayed            0\n",
       "datetime            0\n",
       "danceability        0\n",
       "energy              0\n",
       "key                 0\n",
       "loudness            0\n",
       "mode                0\n",
       "speechiness         0\n",
       "acousticness        0\n",
       "instrumentalness    0\n",
       "liveness            0\n",
       "valence             0\n",
       "tempo               0\n",
       "id                  0\n",
       "time_signature      0\n",
       "dtype: int64"
      ]
     },
     "execution_count": 69,
     "metadata": {},
     "output_type": "execute_result"
    }
   ],
   "source": [
    "df_new_songs.isnull().sum()"
   ]
  },
  {
   "cell_type": "code",
   "execution_count": 70,
   "metadata": {
    "scrolled": true
   },
   "outputs": [
    {
     "data": {
      "text/plain": [
       "list_name           0\n",
       "song_id             1\n",
       "song_name           1\n",
       "artist              1\n",
       "popularity          1\n",
       "release_date        1\n",
       "energy              1\n",
       "liveness            1\n",
       "tempo               1\n",
       "speechiness         1\n",
       "acousticness        1\n",
       "instrumentalness    1\n",
       "danceability        1\n",
       "duration_ms         1\n",
       "loudness            1\n",
       "valence             1\n",
       "mode                1\n",
       "key                 1\n",
       "dtype: int64"
      ]
     },
     "execution_count": 70,
     "metadata": {},
     "output_type": "execute_result"
    }
   ],
   "source": [
    "df_new_playlists.isnull().sum()"
   ]
  },
  {
   "cell_type": "code",
   "execution_count": 71,
   "metadata": {
    "scrolled": true
   },
   "outputs": [
    {
     "name": "stderr",
     "output_type": "stream",
     "text": [
      "<ipython-input-71-0cc019581d94>:4: SettingWithCopyWarning: \n",
      "A value is trying to be set on a copy of a slice from a DataFrame\n",
      "\n",
      "See the caveats in the documentation: https://pandas.pydata.org/pandas-docs/stable/user_guide/indexing.html#returning-a-view-versus-a-copy\n",
      "  df_new_playlists.dropna(subset=['song_id', 'song_name', 'artist', 'popularity', 'release_date', 'energy', 'liveness', 'tempo', 'speechiness', 'acousticness', 'instrumentalness', 'danceability', 'duration_ms', 'loudness', 'valence', 'mode', 'key'] , inplace = True)\n"
     ]
    }
   ],
   "source": [
    "# I think one of the playlist which i had created is empty so we gonna drop it now\n",
    "df_playlists.dropna(subset=['song_id', 'song_name', 'artist', 'popularity', 'release_date', 'energy', 'liveness', 'tempo', 'speechiness', 'acousticness', 'instrumentalness', 'danceability', 'duration_ms', 'loudness', 'valence', 'mode', 'key'] , inplace = True)\n",
    "\n",
    "df_new_playlists.dropna(subset=['song_id', 'song_name', 'artist', 'popularity', 'release_date', 'energy', 'liveness', 'tempo', 'speechiness', 'acousticness', 'instrumentalness', 'danceability', 'duration_ms', 'loudness', 'valence', 'mode', 'key'] , inplace = True)"
   ]
  },
  {
   "cell_type": "code",
   "execution_count": 72,
   "metadata": {
    "scrolled": true
   },
   "outputs": [
    {
     "data": {
      "text/plain": [
       "list_name           0\n",
       "song_id             0\n",
       "song_name           0\n",
       "artist              0\n",
       "popularity          0\n",
       "release_date        0\n",
       "energy              0\n",
       "liveness            0\n",
       "tempo               0\n",
       "speechiness         0\n",
       "acousticness        0\n",
       "instrumentalness    0\n",
       "danceability        0\n",
       "duration_ms         0\n",
       "loudness            0\n",
       "valence             0\n",
       "mode                0\n",
       "key                 0\n",
       "dtype: int64"
      ]
     },
     "execution_count": 72,
     "metadata": {},
     "output_type": "execute_result"
    }
   ],
   "source": [
    "df_new_playlists.isnull().sum()"
   ]
  },
  {
   "cell_type": "code",
   "execution_count": 73,
   "metadata": {
    "scrolled": true
   },
   "outputs": [
    {
     "data": {
      "text/plain": [
       "list_name           0\n",
       "song_id             0\n",
       "song_name           0\n",
       "artist              0\n",
       "popularity          0\n",
       "release_date        0\n",
       "energy              0\n",
       "liveness            0\n",
       "tempo               0\n",
       "speechiness         0\n",
       "acousticness        0\n",
       "instrumentalness    0\n",
       "danceability        0\n",
       "duration_ms         0\n",
       "loudness            0\n",
       "valence             0\n",
       "mode                0\n",
       "key                 0\n",
       "dtype: int64"
      ]
     },
     "execution_count": 73,
     "metadata": {},
     "output_type": "execute_result"
    }
   ],
   "source": [
    "df_playlists.isnull().sum()"
   ]
  },
  {
   "cell_type": "code",
   "execution_count": 74,
   "metadata": {
    "scrolled": true
   },
   "outputs": [
    {
     "data": {
      "text/plain": [
       "artistName           object\n",
       "trackName            object\n",
       "msPlayed              int64\n",
       "datetime             object\n",
       "danceability        float64\n",
       "energy              float64\n",
       "key                 float64\n",
       "loudness            float64\n",
       "mode                float64\n",
       "speechiness         float64\n",
       "acousticness        float64\n",
       "instrumentalness    float64\n",
       "liveness            float64\n",
       "valence             float64\n",
       "tempo               float64\n",
       "id                   object\n",
       "time_signature      float64\n",
       "dtype: object"
      ]
     },
     "execution_count": 74,
     "metadata": {},
     "output_type": "execute_result"
    }
   ],
   "source": [
    "# Now Lets Check the Data Types\n",
    "df_songs.dtypes"
   ]
  },
  {
   "cell_type": "code",
   "execution_count": 75,
   "metadata": {
    "scrolled": true
   },
   "outputs": [
    {
     "data": {
      "text/plain": [
       "list_name            object\n",
       "song_id              object\n",
       "song_name            object\n",
       "artist               object\n",
       "popularity          float64\n",
       "release_date         object\n",
       "energy              float64\n",
       "liveness            float64\n",
       "tempo               float64\n",
       "speechiness         float64\n",
       "acousticness        float64\n",
       "instrumentalness    float64\n",
       "danceability        float64\n",
       "duration_ms         float64\n",
       "loudness            float64\n",
       "valence             float64\n",
       "mode                float64\n",
       "key                 float64\n",
       "dtype: object"
      ]
     },
     "execution_count": 75,
     "metadata": {},
     "output_type": "execute_result"
    }
   ],
   "source": [
    "df_playlists.dtypes"
   ]
  },
  {
   "cell_type": "code",
   "execution_count": 3,
   "metadata": {},
   "outputs": [],
   "source": [
    "#so weve checked the dataset and there seems no  issues with the dataset as a result no further cleaning is required"
   ]
  },
  {
   "cell_type": "code",
   "execution_count": 77,
   "metadata": {},
   "outputs": [],
   "source": [
    "# So now we gonna save it into a csv file\n",
    "\n",
    "df_songs.to_csv('song_data.csv')\n",
    "df_new_songs.to_csv('distinct_song.csv')\n",
    "df_playlists.to_csv('playlist_data.csv')\n",
    "df_new_playlists.to_csv('distinct_playlist.csv')"
   ]
  },
  {
   "cell_type": "code",
   "execution_count": null,
   "metadata": {},
   "outputs": [],
   "source": []
  }
 ],
 "metadata": {
  "kernelspec": {
   "display_name": "Python 3",
   "language": "python",
   "name": "python3"
  },
  "language_info": {
   "codemirror_mode": {
    "name": "ipython",
    "version": 3
   },
   "file_extension": ".py",
   "mimetype": "text/x-python",
   "name": "python",
   "nbconvert_exporter": "python",
   "pygments_lexer": "ipython3",
   "version": "3.8.3"
  }
 },
 "nbformat": 4,
 "nbformat_minor": 4
}
